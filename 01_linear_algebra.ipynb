{
 "cells": [
  {
   "cell_type": "markdown",
   "id": "23705987-1432-4495-94e7-88a1bbf38e00",
   "metadata": {},
   "source": [
    "# Vectors"
   ]
  },
  {
   "cell_type": "code",
   "execution_count": 30,
   "id": "52cfd1f0-8d60-4d52-80eb-9f8c8c5d4b4f",
   "metadata": {},
   "outputs": [],
   "source": [
    "import numpy as np\n",
    "import pandas as pd"
   ]
  },
  {
   "cell_type": "code",
   "execution_count": 2,
   "id": "def716fa-af26-4b96-ab67-b6439f4c75d2",
   "metadata": {},
   "outputs": [],
   "source": [
    "t = np.array([12, 14, 17, 19, 24, 28, 31, 31, 27, 22, 17, 13])"
   ]
  },
  {
   "cell_type": "code",
   "execution_count": 3,
   "id": "4d7314ad-03a5-4cde-b5a1-c03e1b9dcf4b",
   "metadata": {},
   "outputs": [
    {
     "data": {
      "text/plain": [
       "28"
      ]
     },
     "execution_count": 3,
     "metadata": {},
     "output_type": "execute_result"
    }
   ],
   "source": [
    "t[5]"
   ]
  },
  {
   "cell_type": "code",
   "execution_count": 14,
   "id": "76b66f98-efcc-4b2b-9456-33031ed3f9b6",
   "metadata": {},
   "outputs": [
    {
     "name": "stdout",
     "output_type": "stream",
     "text": [
      "(array([0], dtype=int64),)\n",
      "(array([6, 7], dtype=int64),)\n"
     ]
    }
   ],
   "source": [
    "print(np.where(t == min(t)))\n",
    "print(np.where(t == max(t)))"
   ]
  },
  {
   "cell_type": "code",
   "execution_count": 15,
   "id": "73f7e586-e72b-49a0-981c-7933750a1158",
   "metadata": {},
   "outputs": [
    {
     "name": "stdout",
     "output_type": "stream",
     "text": [
      "[394 496 400]\n"
     ]
    }
   ],
   "source": [
    "a = np.array([120,150,90])\n",
    "b = np.array([130,130,130])\n",
    "c = np.array([144,216,180])\n",
    "\n",
    "print(a+b+c)"
   ]
  },
  {
   "cell_type": "markdown",
   "id": "47aa3e17-1a2c-4414-8a2c-7c8b63f7f4b3",
   "metadata": {},
   "source": [
    "### Линейная комбинация векторов"
   ]
  },
  {
   "cell_type": "code",
   "execution_count": 16,
   "id": "8e891bb8-85b7-4fa4-8de4-a440f470cfd8",
   "metadata": {},
   "outputs": [
    {
     "data": {
      "text/plain": [
       "array([19940, 23660, 17300])"
      ]
     },
     "execution_count": 16,
     "metadata": {},
     "output_type": "execute_result"
    }
   ],
   "source": [
    "100*a + 50*b + 10*c"
   ]
  },
  {
   "cell_type": "markdown",
   "id": "8c8e0539-e8fb-4a12-82c6-1519c7a4b3e8",
   "metadata": {},
   "source": [
    "Если при линейной комбинации векторов мы получаем 0 вектор, то такие вектора называются *линейно зависимыми*. При этом один из них (но необязательно любой) можно представить как их линейную комбинацию  \n",
    "Если нулевой вектор получить не удалось - такие комбинации называются *линейно независимыми*"
   ]
  },
  {
   "cell_type": "code",
   "execution_count": 19,
   "id": "b6f866de-7870-4c87-b139-c9529fde60e4",
   "metadata": {},
   "outputs": [],
   "source": [
    "a = np.array([3,4,5,9])\n",
    "b = np.array([1,5,3,6])\n",
    "x = 200\n",
    "y = 400"
   ]
  },
  {
   "cell_type": "code",
   "execution_count": 20,
   "id": "11075dcd-039f-40b9-a73c-0546cd30053d",
   "metadata": {},
   "outputs": [
    {
     "data": {
      "text/plain": [
       "array([-200, 1200,  200,  600])"
      ]
     },
     "execution_count": 20,
     "metadata": {},
     "output_type": "execute_result"
    }
   ],
   "source": [
    "y*b - x*a"
   ]
  },
  {
   "cell_type": "markdown",
   "id": "94fe589a-a3b6-40d7-b512-e8bd757e0dd3",
   "metadata": {},
   "source": [
    "### Произведения векторов"
   ]
  },
  {
   "cell_type": "markdown",
   "id": "a49f9d96-5bb7-4e11-9b9d-ce115205f5b9",
   "metadata": {},
   "source": [
    "Всего есть 4 вида произведения векторов:  \n",
    "1. Скалярное (результат - число)  \n",
    "2. Векторное (результат - вектор)\n",
    "3. Смешанное (результат - число)\n",
    "4. Тензорное (результат - матрица)"
   ]
  },
  {
   "cell_type": "markdown",
   "id": "3751119c-b639-4113-a65f-dd89ead39761",
   "metadata": {},
   "source": [
    "#### Скалярное произведение"
   ]
  },
  {
   "cell_type": "markdown",
   "id": "6508adc5-6b0e-4ebb-8c9b-012e594b5b1c",
   "metadata": {},
   "source": [
    "Скалярное произведение ортогональных векторов дает нулевой вектор (ортогональность - прямой угол между векторами)"
   ]
  },
  {
   "cell_type": "markdown",
   "id": "f645d21e-15c0-4dd8-ab42-54ac9c934dfb",
   "metadata": {},
   "source": [
    "Длина вектора вычисляется как корень квадратный из произведения вектора на самого себя"
   ]
  },
  {
   "cell_type": "code",
   "execution_count": 21,
   "id": "f28bec3d-c78b-4ead-aeff-f30131b75d2d",
   "metadata": {},
   "outputs": [
    {
     "data": {
      "text/plain": [
       "7"
      ]
     },
     "execution_count": 21,
     "metadata": {},
     "output_type": "execute_result"
    }
   ],
   "source": [
    "x = np.array([4,5,-1])\n",
    "y = np.array([2,0,1])\n",
    "\n",
    "np.dot(x,y)"
   ]
  },
  {
   "cell_type": "code",
   "execution_count": 23,
   "id": "f82beca5-ce0e-4480-a8c1-5b7587badd54",
   "metadata": {},
   "outputs": [
    {
     "data": {
      "text/plain": [
       "7"
      ]
     },
     "execution_count": 23,
     "metadata": {},
     "output_type": "execute_result"
    }
   ],
   "source": [
    "x@y"
   ]
  },
  {
   "cell_type": "code",
   "execution_count": 25,
   "id": "29d7b965-2878-4b95-ba03-f43770a1b4e4",
   "metadata": {},
   "outputs": [
    {
     "data": {
      "text/plain": [
       "6.48074069840786"
      ]
     },
     "execution_count": 25,
     "metadata": {},
     "output_type": "execute_result"
    }
   ],
   "source": [
    "# длина вектора\n",
    "np.linalg.norm(x)"
   ]
  },
  {
   "cell_type": "code",
   "execution_count": 29,
   "id": "6fe76d18-243f-4ac2-8973-13133de36c88",
   "metadata": {},
   "outputs": [
    {
     "name": "stdout",
     "output_type": "stream",
     "text": [
      "[ 0.6172134   0.77151675 -0.15430335]\n",
      "0.9999999999999999\n"
     ]
    }
   ],
   "source": [
    "# нормировка\n",
    "print(x / np.linalg.norm(x))\n",
    "print(np.linalg.norm(x / np.linalg.norm(x)))"
   ]
  },
  {
   "cell_type": "code",
   "execution_count": 31,
   "id": "cf2d1683-4f2d-4868-871a-5eaf7e110299",
   "metadata": {},
   "outputs": [],
   "source": [
    "Hut_Paradise_DF = pd.DataFrame({'1.Rent': [65, 70, 120, 35, 40, 50, 100, 90, 85], \n",
    "                                '2.Area': [50, 52, 80, 33, 33, 44, 80, 65, 65], \n",
    "                                '3.Rooms':[3, 2, 1, 1, 1, 2, 4, 3, 2],\n",
    "                                '4.Floor':[5, 12, 10, 3, 6, 13, 8, 21, 5], \n",
    "                                '5.Demo two weeks':[8, 4, 5, 10, 20, 12, 5, 1, 10], \n",
    "                                '6.Liv.Area': [37, 40, 65, 20, 16, 35, 60, 50, 40]})"
   ]
  },
  {
   "cell_type": "code",
   "execution_count": 32,
   "id": "4d89d393-7a7b-4259-be9a-a631671a945a",
   "metadata": {},
   "outputs": [
    {
     "data": {
      "text/html": [
       "<div>\n",
       "<style scoped>\n",
       "    .dataframe tbody tr th:only-of-type {\n",
       "        vertical-align: middle;\n",
       "    }\n",
       "\n",
       "    .dataframe tbody tr th {\n",
       "        vertical-align: top;\n",
       "    }\n",
       "\n",
       "    .dataframe thead th {\n",
       "        text-align: right;\n",
       "    }\n",
       "</style>\n",
       "<table border=\"1\" class=\"dataframe\">\n",
       "  <thead>\n",
       "    <tr style=\"text-align: right;\">\n",
       "      <th></th>\n",
       "      <th>1.Rent</th>\n",
       "      <th>2.Area</th>\n",
       "      <th>3.Rooms</th>\n",
       "      <th>4.Floor</th>\n",
       "      <th>5.Demo two weeks</th>\n",
       "      <th>6.Liv.Area</th>\n",
       "    </tr>\n",
       "  </thead>\n",
       "  <tbody>\n",
       "    <tr>\n",
       "      <th>0</th>\n",
       "      <td>65</td>\n",
       "      <td>50</td>\n",
       "      <td>3</td>\n",
       "      <td>5</td>\n",
       "      <td>8</td>\n",
       "      <td>37</td>\n",
       "    </tr>\n",
       "    <tr>\n",
       "      <th>1</th>\n",
       "      <td>70</td>\n",
       "      <td>52</td>\n",
       "      <td>2</td>\n",
       "      <td>12</td>\n",
       "      <td>4</td>\n",
       "      <td>40</td>\n",
       "    </tr>\n",
       "    <tr>\n",
       "      <th>2</th>\n",
       "      <td>120</td>\n",
       "      <td>80</td>\n",
       "      <td>1</td>\n",
       "      <td>10</td>\n",
       "      <td>5</td>\n",
       "      <td>65</td>\n",
       "    </tr>\n",
       "    <tr>\n",
       "      <th>3</th>\n",
       "      <td>35</td>\n",
       "      <td>33</td>\n",
       "      <td>1</td>\n",
       "      <td>3</td>\n",
       "      <td>10</td>\n",
       "      <td>20</td>\n",
       "    </tr>\n",
       "    <tr>\n",
       "      <th>4</th>\n",
       "      <td>40</td>\n",
       "      <td>33</td>\n",
       "      <td>1</td>\n",
       "      <td>6</td>\n",
       "      <td>20</td>\n",
       "      <td>16</td>\n",
       "    </tr>\n",
       "  </tbody>\n",
       "</table>\n",
       "</div>"
      ],
      "text/plain": [
       "   1.Rent  2.Area  3.Rooms  4.Floor  5.Demo two weeks  6.Liv.Area\n",
       "0      65      50        3        5                 8          37\n",
       "1      70      52        2       12                 4          40\n",
       "2     120      80        1       10                 5          65\n",
       "3      35      33        1        3                10          20\n",
       "4      40      33        1        6                20          16"
      ]
     },
     "execution_count": 32,
     "metadata": {},
     "output_type": "execute_result"
    }
   ],
   "source": [
    "Hut_Paradise_DF.head()"
   ]
  },
  {
   "cell_type": "code",
   "execution_count": 33,
   "id": "ce9897d2-a4aa-4f51-920a-85b6938b999f",
   "metadata": {},
   "outputs": [],
   "source": [
    "data = Hut_Paradise_DF.values"
   ]
  },
  {
   "cell_type": "code",
   "execution_count": 35,
   "id": "cb6a5211-914a-4705-95f9-17208460e2d0",
   "metadata": {},
   "outputs": [
    {
     "data": {
      "text/plain": [
       "array([40, 33,  1,  6, 20, 16], dtype=int64)"
      ]
     },
     "execution_count": 35,
     "metadata": {},
     "output_type": "execute_result"
    }
   ],
   "source": [
    "data[4]"
   ]
  },
  {
   "cell_type": "code",
   "execution_count": 36,
   "id": "8549aa84-dd85-44f6-b987-d737e85a00ec",
   "metadata": {},
   "outputs": [
    {
     "data": {
      "text/plain": [
       "array([ 5, 12, 10,  3,  6, 13,  8, 21,  5], dtype=int64)"
      ]
     },
     "execution_count": 36,
     "metadata": {},
     "output_type": "execute_result"
    }
   ],
   "source": [
    "data[:,3]"
   ]
  },
  {
   "cell_type": "code",
   "execution_count": 37,
   "id": "fe6bbb4d-bb12-4e61-a450-c6dfa8714d70",
   "metadata": {},
   "outputs": [
    {
     "data": {
      "text/plain": [
       "10"
      ]
     },
     "execution_count": 37,
     "metadata": {},
     "output_type": "execute_result"
    }
   ],
   "source": [
    "data[2,3]"
   ]
  },
  {
   "cell_type": "code",
   "execution_count": 38,
   "id": "2bd0808e-0768-437f-8c6f-6b3f63b80174",
   "metadata": {},
   "outputs": [
    {
     "data": {
      "text/plain": [
       "(9, 6)"
      ]
     },
     "execution_count": 38,
     "metadata": {},
     "output_type": "execute_result"
    }
   ],
   "source": [
    "data.shape"
   ]
  },
  {
   "cell_type": "code",
   "execution_count": 40,
   "id": "0f70d10e-ea34-47c1-a0f0-51f1fbad5d14",
   "metadata": {},
   "outputs": [
    {
     "data": {
      "text/plain": [
       "array([13, 12, 15, 13, 17,  9, 20, 15, 25], dtype=int64)"
      ]
     },
     "execution_count": 40,
     "metadata": {},
     "output_type": "execute_result"
    }
   ],
   "source": [
    "data[:,1] - data[:, -1]"
   ]
  },
  {
   "cell_type": "code",
   "execution_count": 41,
   "id": "52134059-5210-47b5-9ca6-d105487bd8d6",
   "metadata": {},
   "outputs": [
    {
     "data": {
      "text/plain": [
       "array([26000, 28000, 48000, 14000, 16000, 20000, 40000, 36000, 34000],\n",
       "      dtype=int64)"
      ]
     },
     "execution_count": 41,
     "metadata": {},
     "output_type": "execute_result"
    }
   ],
   "source": [
    "data[:,0]*400"
   ]
  },
  {
   "cell_type": "code",
   "execution_count": 42,
   "id": "a2513fc3-b9ef-4cbd-9d74-00bbcaab33a6",
   "metadata": {},
   "outputs": [],
   "source": [
    "s = np.array([10, 20, 30, 15, 5, 40, 20, 8, 20])"
   ]
  },
  {
   "cell_type": "code",
   "execution_count": 44,
   "id": "501c0d81-5ddb-4ab3-967f-157795649b0e",
   "metadata": {},
   "outputs": [
    {
     "data": {
      "text/plain": [
       "1348"
      ]
     },
     "execution_count": 44,
     "metadata": {},
     "output_type": "execute_result"
    }
   ],
   "source": [
    "data[:,4]@s"
   ]
  },
  {
   "cell_type": "code",
   "execution_count": 45,
   "id": "8cd9aa63-e8c1-4785-a6e6-32293002a781",
   "metadata": {},
   "outputs": [],
   "source": [
    "u=np.array([3,0,1,1,1])\n",
    "v=np.array([0,1,0,2,-2])\n",
    "w=np.array([1,-4,-1,0,-2])"
   ]
  },
  {
   "cell_type": "code",
   "execution_count": 46,
   "id": "46f46b45-c35b-4de7-be16-e923967cec70",
   "metadata": {},
   "outputs": [
    {
     "name": "stdout",
     "output_type": "stream",
     "text": [
      "0\n",
      "0\n",
      "0\n"
     ]
    }
   ],
   "source": [
    "# являются ли эти 3 вектора попарно ортогональными?\n",
    "print(u@v)\n",
    "print(u@w)\n",
    "print(v@w)"
   ]
  },
  {
   "cell_type": "code",
   "execution_count": 48,
   "id": "76a9b943-fd1f-49ff-a9d4-ee3350434efa",
   "metadata": {},
   "outputs": [],
   "source": [
    "z = 2*v - 3*w"
   ]
  },
  {
   "cell_type": "code",
   "execution_count": 49,
   "id": "f22c576a-ba49-4462-93eb-aafb7948e442",
   "metadata": {},
   "outputs": [
    {
     "data": {
      "text/plain": [
       "0"
      ]
     },
     "execution_count": 49,
     "metadata": {},
     "output_type": "execute_result"
    }
   ],
   "source": [
    "z@u"
   ]
  },
  {
   "cell_type": "code",
   "execution_count": 50,
   "id": "1d00ccd5-f8f5-4835-8e13-fc176592c810",
   "metadata": {},
   "outputs": [
    {
     "name": "stdout",
     "output_type": "stream",
     "text": [
      "[0.8660254  0.         0.28867513 0.28867513 0.28867513]\n",
      "[ 0.          0.33333333  0.          0.66666667 -0.66666667]\n",
      "[ 0.21320072 -0.85280287 -0.21320072  0.         -0.42640143]\n"
     ]
    }
   ],
   "source": [
    "print(u / np.linalg.norm(u))\n",
    "print(v / np.linalg.norm(v))\n",
    "print(w / np.linalg.norm(w))"
   ]
  },
  {
   "cell_type": "code",
   "execution_count": null,
   "id": "c2e25692-fb30-45da-add1-02614d3fec50",
   "metadata": {},
   "outputs": [],
   "source": []
  }
 ],
 "metadata": {
  "kernelspec": {
   "display_name": "Python 3 (ipykernel)",
   "language": "python",
   "name": "python3"
  },
  "language_info": {
   "codemirror_mode": {
    "name": "ipython",
    "version": 3
   },
   "file_extension": ".py",
   "mimetype": "text/x-python",
   "name": "python",
   "nbconvert_exporter": "python",
   "pygments_lexer": "ipython3",
   "version": "3.10.4"
  }
 },
 "nbformat": 4,
 "nbformat_minor": 5
}
