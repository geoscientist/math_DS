{
 "cells": [
  {
   "cell_type": "markdown",
   "id": "23705987-1432-4495-94e7-88a1bbf38e00",
   "metadata": {},
   "source": [
    "# Vectors"
   ]
  },
  {
   "cell_type": "code",
   "execution_count": 1,
   "id": "52cfd1f0-8d60-4d52-80eb-9f8c8c5d4b4f",
   "metadata": {},
   "outputs": [],
   "source": [
    "import numpy as np"
   ]
  },
  {
   "cell_type": "code",
   "execution_count": 2,
   "id": "def716fa-af26-4b96-ab67-b6439f4c75d2",
   "metadata": {},
   "outputs": [],
   "source": [
    "t = np.array([12, 14, 17, 19, 24, 28, 31, 31, 27, 22, 17, 13])"
   ]
  },
  {
   "cell_type": "code",
   "execution_count": 3,
   "id": "4d7314ad-03a5-4cde-b5a1-c03e1b9dcf4b",
   "metadata": {},
   "outputs": [
    {
     "data": {
      "text/plain": [
       "28"
      ]
     },
     "execution_count": 3,
     "metadata": {},
     "output_type": "execute_result"
    }
   ],
   "source": [
    "t[5]"
   ]
  },
  {
   "cell_type": "code",
   "execution_count": 14,
   "id": "76b66f98-efcc-4b2b-9456-33031ed3f9b6",
   "metadata": {},
   "outputs": [
    {
     "name": "stdout",
     "output_type": "stream",
     "text": [
      "(array([0], dtype=int64),)\n",
      "(array([6, 7], dtype=int64),)\n"
     ]
    }
   ],
   "source": [
    "print(np.where(t == min(t)))\n",
    "print(np.where(t == max(t)))"
   ]
  },
  {
   "cell_type": "code",
   "execution_count": 15,
   "id": "73f7e586-e72b-49a0-981c-7933750a1158",
   "metadata": {},
   "outputs": [
    {
     "name": "stdout",
     "output_type": "stream",
     "text": [
      "[394 496 400]\n"
     ]
    }
   ],
   "source": [
    "a = np.array([120,150,90])\n",
    "b = np.array([130,130,130])\n",
    "c = np.array([144,216,180])\n",
    "\n",
    "print(a+b+c)"
   ]
  },
  {
   "cell_type": "markdown",
   "id": "47aa3e17-1a2c-4414-8a2c-7c8b63f7f4b3",
   "metadata": {},
   "source": [
    "### Линейная комбинация векторов"
   ]
  },
  {
   "cell_type": "code",
   "execution_count": 16,
   "id": "8e891bb8-85b7-4fa4-8de4-a440f470cfd8",
   "metadata": {},
   "outputs": [
    {
     "data": {
      "text/plain": [
       "array([19940, 23660, 17300])"
      ]
     },
     "execution_count": 16,
     "metadata": {},
     "output_type": "execute_result"
    }
   ],
   "source": [
    "100*a + 50*b + 10*c"
   ]
  },
  {
   "cell_type": "markdown",
   "id": "8c8e0539-e8fb-4a12-82c6-1519c7a4b3e8",
   "metadata": {},
   "source": [
    "Если при линейной комбинации векторов мы получаем 0 вектор, то такие вектора называются *линейно зависимыми*. При этом один из них (но необязательно любой) можно представить как их линейную комбинацию  \n",
    "Если нулевой вектор получить не удалось - такие комбинации называются *линейно независимыми*"
   ]
  },
  {
   "cell_type": "code",
   "execution_count": 19,
   "id": "b6f866de-7870-4c87-b139-c9529fde60e4",
   "metadata": {},
   "outputs": [],
   "source": [
    "a = np.array([3,4,5,9])\n",
    "b = np.array([1,5,3,6])\n",
    "x = 200\n",
    "y = 400"
   ]
  },
  {
   "cell_type": "code",
   "execution_count": 20,
   "id": "11075dcd-039f-40b9-a73c-0546cd30053d",
   "metadata": {},
   "outputs": [
    {
     "data": {
      "text/plain": [
       "array([-200, 1200,  200,  600])"
      ]
     },
     "execution_count": 20,
     "metadata": {},
     "output_type": "execute_result"
    }
   ],
   "source": [
    "y*b - x*a"
   ]
  },
  {
   "cell_type": "code",
   "execution_count": null,
   "id": "9d8e616b-c5c7-4bb1-aa3f-cfa6accc79ce",
   "metadata": {},
   "outputs": [],
   "source": []
  }
 ],
 "metadata": {
  "kernelspec": {
   "display_name": "Python 3 (ipykernel)",
   "language": "python",
   "name": "python3"
  },
  "language_info": {
   "codemirror_mode": {
    "name": "ipython",
    "version": 3
   },
   "file_extension": ".py",
   "mimetype": "text/x-python",
   "name": "python",
   "nbconvert_exporter": "python",
   "pygments_lexer": "ipython3",
   "version": "3.10.4"
  }
 },
 "nbformat": 4,
 "nbformat_minor": 5
}
